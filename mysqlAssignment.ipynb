{
 "cells": [
  {
   "cell_type": "markdown",
   "id": "f359d375-7a62-4215-b91a-33648b3b4387",
   "metadata": {},
   "source": [
    "## Q1"
   ]
  },
  {
   "cell_type": "markdown",
   "id": "f564c26e-f8d0-4b19-afbb-f02b69baaef1",
   "metadata": {},
   "source": [
    "A database is a structured collection of data that is organized, stored, and managed in a way that allows for efficient retrieval, updating, and manipulation of information. Databases are used to store various types of data, ranging from simple text and numbers to more complex structures like images, videos, and geographic information.\n",
    "\n",
    "\n",
    "SQL DataBase: SQL databases , which means they organize data into structured tables with predefined schemas. Each table consists of rows and columns  where data is stored. The primary language used to manage and manipulate data in SQL databases is SQL.\n",
    "\n",
    "\n",
    "NoSQL DataBase : NoSQL databases (often interpreted as \"not only SQL\") are designed to handle unstructured or semi-structured data and provide more flexibility in data modeling. They do not require a fixed schema and are often used for handling large volumes of data with varying structures. "
   ]
  },
  {
   "cell_type": "markdown",
   "id": "c4eefbc4-02dc-4bc7-8522-daba606843fa",
   "metadata": {},
   "source": [
    "## Q2"
   ]
  },
  {
   "cell_type": "markdown",
   "id": "cb3a582a-2864-4992-9b09-24916c42d6be",
   "metadata": {},
   "source": [
    "DDL stands for Data Definition Language. It is a subset of SQL (Structured Query Language) used to define, manage, and manipulate the structure of a database and its objects. DDL statements are used to create, modify, and delete database objects such as tables, indexes, and constraints. DDL is focused on specifying the structure of the data rather than manipulating the actual data stored within the database.\n",
    "\n",
    "\n",
    "1. CREATE() : The create statement is used to create new database objects, such as tables, indexes, and views. It defines the structure of the object and any associated constraints.\n"
   ]
  },
  {
   "cell_type": "code",
   "execution_count": null,
   "id": "b6b2fe7d-563d-46b7-96ef-f77c66db0dbf",
   "metadata": {},
   "outputs": [],
   "source": [
    "CREATE TABLE student (c1 INT, c2 FLOAT, c3 VARCHAR(20), c4 INT);"
   ]
  },
  {
   "cell_type": "markdown",
   "id": "ccb8066c-ac35-4d68-b0fa-283561db46a9",
   "metadata": {},
   "source": [
    "2. DROP() : The DROP statement is used to remove database objects, such as tables, indexes, or views. This action irreversibly deletes the object and its associated data."
   ]
  },
  {
   "cell_type": "code",
   "execution_count": null,
   "id": "ba0a6bf8-9f90-4ff1-9936-aca076bb7524",
   "metadata": {},
   "outputs": [],
   "source": [
    "DROP TABLE student;"
   ]
  },
  {
   "cell_type": "markdown",
   "id": "8c97c3f2-a5c5-454c-b27a-b74f73765f15",
   "metadata": {},
   "source": [
    "3. ALTER() : The ALTER statement is used to modify the structure of existing database objects, such as adding or dropping columns, changing data types, or modifying constraints.\n"
   ]
  },
  {
   "cell_type": "code",
   "execution_count": null,
   "id": "d0f6ab90-cc19-4a5d-b565-27dcd738d3dc",
   "metadata": {},
   "outputs": [],
   "source": [
    "ALTER TABLE student\n",
    "ADD Email VARCHAR(100);"
   ]
  },
  {
   "cell_type": "markdown",
   "id": "f15b58b3-f598-4c63-8664-2c401fa161ba",
   "metadata": {},
   "source": [
    "4. TRUNCATE() : The TRUNCATE statement is used to quickly remove all rows from a table, effectively resetting its data. Unlike the DROP statement, TRUNCATE doesn't remove the table structure; it only removes the data."
   ]
  },
  {
   "cell_type": "code",
   "execution_count": null,
   "id": "7c8a325a-0458-48d9-a5c4-09dfd1e0e23c",
   "metadata": {},
   "outputs": [],
   "source": [
    "TRUNCATE TABLE student;"
   ]
  },
  {
   "cell_type": "markdown",
   "id": "2ab2a288-69de-4771-abb0-49c87a250eb1",
   "metadata": {},
   "source": [
    "## Q3"
   ]
  },
  {
   "cell_type": "markdown",
   "id": "b5242c3b-d607-416f-bb22-ce24f378825e",
   "metadata": {},
   "source": [
    "DML stands for Data Manipulation Language. It is a subset of SQL (Structured Query Language) used to interact with the data stored in a database. DML statements are used to insert, update, and delete data within database tables. Unlike DDL (Data Definition Language) that deals with the structure of the database, DML focuses on the manipulation of the actual data."
   ]
  },
  {
   "cell_type": "markdown",
   "id": "b9140e91-56f8-48c7-8cee-104d77536504",
   "metadata": {},
   "source": [
    "1. INSERT : The INSERT statement is used to add new rows of data into a table. It specifies both the table and the values to be inserted into the columns."
   ]
  },
  {
   "cell_type": "code",
   "execution_count": null,
   "id": "c375427c-a73c-4c73-aeb9-7a233d56b101",
   "metadata": {},
   "outputs": [],
   "source": [
    "INSERT INTO student (c1,c2,c3,c4)\n",
    "VALUES (1,158.78,'Vinay',100);"
   ]
  },
  {
   "cell_type": "markdown",
   "id": "12567a67-7d7e-4be3-97be-f37d3d04c7cf",
   "metadata": {},
   "source": [
    "2. UPDATE : The UPDATE statement is used to modify existing data in a table. It allows you to change the values of one or more columns in existing rows based on specified conditions."
   ]
  },
  {
   "cell_type": "code",
   "execution_count": null,
   "id": "302f49db-ddfc-4e8f-acb2-26cea3d5e881",
   "metadata": {},
   "outputs": [],
   "source": [
    "UPDATE student\n",
    "SET c4 = 102\n",
    "WHERE c1 = 1;"
   ]
  },
  {
   "cell_type": "markdown",
   "id": "88f2771d-6ea4-4ce4-99fc-1a3207269b2b",
   "metadata": {},
   "source": [
    "3. DELETE: The DELETE statement is used to remove one or more rows of data from a table based on specified conditions.\n"
   ]
  },
  {
   "cell_type": "code",
   "execution_count": null,
   "id": "be2e2898-701d-4995-a679-47fe25b5e9da",
   "metadata": {},
   "outputs": [],
   "source": [
    "DELETE FROM student\n",
    "WHERE c1 = 1;"
   ]
  },
  {
   "cell_type": "markdown",
   "id": "4e716494-8c6a-494e-a4d4-9efb7faea201",
   "metadata": {},
   "source": [
    "## Q4"
   ]
  },
  {
   "cell_type": "markdown",
   "id": "70a0f9c8-5836-454c-a3f4-369bf048b064",
   "metadata": {},
   "source": [
    "DQL stands for Data Query Language. It is a subset of SQL (Structured Query Language) that is used to retrieve data from a database. DQL is primarily concerned with querying the database to extract the information stored within it. The most common DQL statement is the SELECT statement, which allows you to retrieve specific data from one or more tables based on specified criteria."
   ]
  },
  {
   "cell_type": "markdown",
   "id": "77f85a28-5c32-4a20-a448-fc5dfc69e053",
   "metadata": {},
   "source": [
    "The SELECT statement is used to retrieve data from one or more tables. "
   ]
  },
  {
   "cell_type": "code",
   "execution_count": null,
   "id": "ee6b7134-5b92-4642-bd5c-7ac5637d562b",
   "metadata": {},
   "outputs": [],
   "source": [
    "SELECT * FROM student;"
   ]
  },
  {
   "cell_type": "markdown",
   "id": "b5cc404b-6584-43c0-bd62-650ee0113a36",
   "metadata": {},
   "source": [
    "## Q5"
   ]
  },
  {
   "cell_type": "markdown",
   "id": "869db61d-c1c0-4de7-867c-bea7a2ccf62d",
   "metadata": {},
   "source": [
    "1. Primary Key: A primary key is a unique identifier for a record in a database table. It ensures that each row within the table is uniquely identifiable. Primary keys are essential for maintaining data integrity and providing a way to uniquely reference records. Only one primary key can exist in a table, and it cannot contain duplicate or null values.\n",
    "\n",
    "2. Foreign Key: A foreign key is a column or set of columns in a table that establishes a link between data in two different tables. It creates a relationship between the tables based on the values in the foreign key column and the primary key column of another table. \n"
   ]
  },
  {
   "cell_type": "markdown",
   "id": "25a35038-ea8a-4bf6-973e-fb355af44bdf",
   "metadata": {},
   "source": [
    "## Q6"
   ]
  },
  {
   "cell_type": "code",
   "execution_count": null,
   "id": "090225bf-260a-4742-a945-9f221718c8e4",
   "metadata": {},
   "outputs": [],
   "source": [
    "import mysql.connector\n",
    "\n",
    "mydb = mysql.connector.connect(\n",
    "    \"host\":\"Localhost\",\n",
    "    \"user\" : \"abc\",\n",
    "    \"password\" : \"password\"\n",
    ")\n",
    "\n",
    "myCursor = mydb.cursor()\n"
   ]
  },
  {
   "cell_type": "markdown",
   "id": "da434fab-fa5a-4d82-83c7-a42fc219d519",
   "metadata": {},
   "source": [
    "1. Cursor(): The cursor() method is used to create a cursor object, which is used to interact with the database. A cursor is a control structure that enables traversal of the records in a result set. The cursor acts as a pointer that you use to navigate through the rows returned by a query.\n",
    "\n",
    "2. execute() : The execute() method is used to execute SQL queries or commands using the cursor .\n",
    "\n",
    "\n"
   ]
  },
  {
   "cell_type": "markdown",
   "id": "badefa75-ff7c-426f-9e4c-5c31b25e2c34",
   "metadata": {},
   "source": [
    "## Q7"
   ]
  },
  {
   "cell_type": "markdown",
   "id": "e55be4bd-2a96-42ca-a5d5-200897e08a78",
   "metadata": {},
   "source": [
    "The order of execution of SQL clauses in a query is as follows:\n",
    "\n",
    "\n",
    "1. SELECT\n",
    "2. FROM\n",
    "3. JOIN\n",
    "4. WHERE\n",
    "5. GROUP BY\n",
    "6. HAVING\n",
    "7. ORDER BY\n",
    "8. LIMIT"
   ]
  },
  {
   "cell_type": "code",
   "execution_count": null,
   "id": "e08e8981-696e-42da-a579-d576088a5d80",
   "metadata": {},
   "outputs": [],
   "source": []
  }
 ],
 "metadata": {
  "kernelspec": {
   "display_name": "Python 3 (ipykernel)",
   "language": "python",
   "name": "python3"
  },
  "language_info": {
   "codemirror_mode": {
    "name": "ipython",
    "version": 3
   },
   "file_extension": ".py",
   "mimetype": "text/x-python",
   "name": "python",
   "nbconvert_exporter": "python",
   "pygments_lexer": "ipython3",
   "version": "3.10.8"
  }
 },
 "nbformat": 4,
 "nbformat_minor": 5
}
